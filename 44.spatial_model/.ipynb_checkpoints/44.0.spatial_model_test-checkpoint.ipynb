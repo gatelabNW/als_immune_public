{
 "cells": [
  {
   "cell_type": "code",
   "execution_count": null,
   "id": "8a9fd61e",
   "metadata": {},
   "outputs": [
    {
     "name": "stderr",
     "output_type": "stream",
     "text": [
      "/home/zzj4347/softwares/anaconda3/envs/cell2loc_env/lib/python3.9/site-packages/tqdm/auto.py:21: TqdmWarning: IProgress not found. Please update jupyter and ipywidgets. See https://ipywidgets.readthedocs.io/en/stable/user_install.html\n",
      "  from .autonotebook import tqdm as notebook_tqdm\n",
      "/home/zzj4347/softwares/anaconda3/envs/cell2loc_env/lib/python3.9/site-packages/scvi/_settings.py:63: UserWarning: Since v1.0.0, scvi-tools no longer uses a random seed by default. Run `scvi.settings.seed = 0` to reproduce results from previous versions.\n",
      "  self.seed = seed\n",
      "/home/zzj4347/softwares/anaconda3/envs/cell2loc_env/lib/python3.9/site-packages/scvi/_settings.py:70: UserWarning: Setting `dl_pin_memory_gpu_training` is deprecated in v1.0 and will be removed in v1.1. Please pass in `pin_memory` to the data loaders instead.\n",
      "  self.dl_pin_memory_gpu_training = (\n"
     ]
    }
   ],
   "source": [
    "import os\n",
    "import numpy as np\n",
    "import pandas as pd\n",
    "import scipy as sp\n",
    "import torch\n",
    "import cell2location as c2l\n",
    "from cell2location.utils.filtering import filter_genes\n",
    "from cell2location.models import RegressionModel\n",
    "from matplotlib import rcParams\n",
    "import matplotlib.pyplot as plt\n",
    "import matplotlib as mpl\n",
    "import scanpy as sc\n",
    "results_folder = \"/projects/b1042/Gate_Lab/projects/als-project/spatial/00.ref\""
   ]
  },
  {
   "cell_type": "code",
   "execution_count": null,
   "id": "613548b2",
   "metadata": {},
   "outputs": [],
   "source": [
    "all_sample_sc = sc.read_h5ad(\"/projects/b1042/Gate_Lab/projects/als-project/spatial/03.seurat_process/data/all_samples_seurat_01_0805.h5ad\")\n"
   ]
  },
  {
   "cell_type": "code",
   "execution_count": 8,
   "id": "160cd791",
   "metadata": {
    "scrolled": true
   },
   "outputs": [
    {
     "data": {
      "text/plain": [
       "['MILLERMI-AU-87-sl5___V52L19-037___D12.h5ad',\n",
       " 'GWF-17-24-10B-sl10___V52L18-402___B12.h5ad',\n",
       " 'GBB21-03-A12-sl5___V52L06-340___C12.h5ad',\n",
       " 'GWF-18-33-10B-sl11___V52L19-028___C7.h5ad',\n",
       " 'GWF_19-35_10C-sl9___V52L06-367___D2.h5ad',\n",
       " 'MILLERMINEUWM_344ZLM-sl10___V52L06-367___D1.h5ad',\n",
       " 'GWF-19-37-10B-sl10___V52L18-387___C5.h5ad',\n",
       " 'GWF_19-47_10___V52L19-048___D3.h5ad',\n",
       " 'NEULM733WR7SCC-10-sl3___V52L18-387___C6.h5ad',\n",
       " 'GBB-18-01-A9-sl12___V52L06-298___C3.h5ad',\n",
       " 'NEUDW867LF9_SCC_10-sl3___V52L19-016___C10.h5ad',\n",
       " 'GWF-15-09-10B-sl2___V52L06-298___C4.h5ad',\n",
       " 'GWF-17-24-10B-sl10___V52L19-076___B10.h5ad',\n",
       " 'NEUHD481VCL_SCC_19-sl14___V52L06-340___C11.h5ad',\n",
       " 'GBB20-16-A13-sl10___V52L18-332___C1.h5ad',\n",
       " 'MILLERMI-N14-280-CSC___V52L18-276___D7.h5ad',\n",
       " 'NEUUJ189PPH_SSC_2-5___V52L19-048___D5.h5ad',\n",
       " 'GBB-17-21-B10-CNS-sl4___V52L19-037___D11.h5ad',\n",
       " 'GBB19-13-A13-sl5___V52L19-016___C9.h5ad',\n",
       " 'GWF-20-50-10B-sl5___V52L18-332___C2.h5ad',\n",
       " 'GWF-17-23___V52L18-276___D6.h5ad']"
      ]
     },
     "execution_count": 8,
     "metadata": {},
     "output_type": "execute_result"
    }
   ],
   "source": [
    "results_folder = \"/projects/b1042/Gate_Lab/projects/als-project/spatial/00.ref\"\n",
    "all_h5ad_files = [file for file in os.listdir(results_folder) if file.endswith(\"h5ad\") if file != \"ref.h5ad\" and file != 'ref_processed.h5ad']\n",
    "all_h5ad_files"
   ]
  },
  {
   "cell_type": "code",
   "execution_count": null,
   "id": "3e93b071",
   "metadata": {},
   "outputs": [],
   "source": [
    "\n",
    "for cur_h5ad in all_h5ad_files:\n",
    "    dat = sc.read_h5ad(f\"{results_folder}/{cur_h5ad}\")\n",
    "    inf_aver = pd.read_csv(f\"{results_folder}/inf_aver.csv\")\n",
    "\n",
    "    inf_aver.index = inf_aver.iloc[:]['Unnamed: 0'].astype(\"str\")\n",
    "    inf_aver.drop(columns=inf_aver.columns[0], axis=1, inplace=True)\n",
    "    dat.var_names = dat.var_names.astype(\"str\")\n",
    "\n",
    "    c2l.models.Cell2location.setup_anndata(adata=dat)\n",
    "    mod = c2l.models.Cell2location(\n",
    "        dat, cell_state_df=inf_aver,\n",
    "        # the expected average cell abundance: tissue-dependent\n",
    "        # hyper-prior which can be estimated from paired histology:\n",
    "        N_cells_per_location=7,\n",
    "        # hyperparameter controlling normalisation of\n",
    "        # within-experiment variation in RNA detection:\n",
    "        detection_alpha=20\n",
    "    )\n",
    "\n",
    "    mod.train(\n",
    "        max_epochs=15000,\n",
    "        # train using full data (batch_size=None)\n",
    "        batch_size=None,\n",
    "        # use all data points in training because\n",
    "        # we need to estimate cell abundance at all locations\n",
    "        train_size=1,\n",
    "        use_gpu=True,\n",
    "    )\n",
    "    plt.close()\n",
    "    mod.plot_history(1000)\n",
    "    plt.legend(labels=['full data training'])\n",
    "    plt.savefig(f\"/projects/b1042/Gate_Lab/projects/als-project/spatial/01.c2l_model/plots/{cur_h5ad}__ss_curve.png\")\n",
    "    plt.close()\n",
    "\n",
    "    dat = mod.export_posterior(\n",
    "        dat, sample_kwargs={'num_samples': 1000, 'batch_size': mod.adata.n_obs, 'use_gpu': True}\n",
    "    )\n",
    "\n",
    "    mod.save(f\"/projects/b1042/Gate_Lab/projects/als-project/spatial/01.c2l_model/plots/{cur_h5ad}__model.pt\", overwrite=True)\n",
    "\n",
    "    sc_file = f\"/projects/b1042/Gate_Lab/projects/als-project/spatial/01.c2l_model/anndata/{cur_h5ad}__after_training.h5ad\"\n",
    "    dat.write(sc_file)"
   ]
  }
 ],
 "metadata": {
  "kernelspec": {
   "display_name": "Environment (cell2loc_env)",
   "language": "python",
   "name": "cell2loc_env"
  },
  "language_info": {
   "codemirror_mode": {
    "name": "ipython",
    "version": 3
   },
   "file_extension": ".py",
   "mimetype": "text/x-python",
   "name": "python",
   "nbconvert_exporter": "python",
   "pygments_lexer": "ipython3",
   "version": "3.9.16"
  }
 },
 "nbformat": 4,
 "nbformat_minor": 5
}
