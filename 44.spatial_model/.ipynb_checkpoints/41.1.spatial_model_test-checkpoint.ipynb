{
 "cells": [
  {
   "cell_type": "code",
   "execution_count": 3,
   "id": "8a9fd61e",
   "metadata": {},
   "outputs": [],
   "source": [
    "import os\n",
    "import numpy as np\n",
    "import pandas as pd\n",
    "import scipy as sp\n",
    "import torch\n",
    "import cell2location as c2l\n",
    "from cell2location.utils.filtering import filter_genes\n",
    "from cell2location.models import RegressionModel\n",
    "from matplotlib import rcParams\n",
    "import matplotlib.pyplot as plt\n",
    "import matplotlib as mpl\n",
    "import scanpy as sc\n",
    "results_folder = \"/projects/b1042/Gate_Lab/projects/als-project/spatial/00.ref\""
   ]
  },
  {
   "cell_type": "code",
   "execution_count": null,
   "id": "3e93b071",
   "metadata": {},
   "outputs": [],
   "source": [
    "results_folder = \"/projects/b1042/Gate_Lab/projects/als-project/spatial/00.ref\"\n",
    "all_h5ad_filesx = [file for file in os.listdir(results_folder) if file.endswith(\"h5ad\")]\n",
    "dat = sc.read_h5ad(f\"{results_folder}/GBB21-03-A12-sl5___V52L06-340___C12.h5ad\")\n",
    "inf_aver = pd.read_csv(f\"{results_folder}/inf_aver.csv\")\n",
    "\n",
    "inf_aver.index = inf_aver.iloc[:]['Unnamed: 0'].astype(\"str\")\n",
    "inf_aver.drop(columns=inf_aver.columns[0], axis=1, inplace=True)\n",
    "dat.var_names = dat.var_names.astype(\"str\")\n",
    "\n",
    "c2l.models.Cell2location.setup_anndata(adata=dat)\n",
    "mod = c2l.models.Cell2location(\n",
    "    dat, cell_state_df=inf_aver,\n",
    "    # the expected average cell abundance: tissue-dependent\n",
    "    # hyper-prior which can be estimated from paired histology:\n",
    "    N_cells_per_location=7,\n",
    "    # hyperparameter controlling normalisation of\n",
    "    # within-experiment variation in RNA detection:\n",
    "    detection_alpha=20\n",
    ")\n",
    "\n",
    "mod.train(\n",
    "    max_epochs=15000,\n",
    "    # train using full data (batch_size=None)\n",
    "    batch_size=None,\n",
    "    # use all data points in training because\n",
    "    # we need to estimate cell abundance at all locations\n",
    "    train_size=1,\n",
    "    use_gpu=True,\n",
    ")\n",
    "plt.close()\n",
    "mod.plot_history(1000)\n",
    "plt.legend(labels=['full data training'])\n",
    "plt.savefig(\"/projects/b1042/Gate_Lab/projects/als-project/spatial/01.c2l_model/plots/loss_curve.png\")\n",
    "plt.close()\n",
    "\n",
    "dat = mod.export_posterior(\n",
    "    dat, sample_kwargs={'num_samples': 1000, 'batch_size': mod.adata.n_obs, 'use_gpu': True}\n",
    ")\n",
    "\n",
    "mod.save(\"/projects/b1042/Gate_Lab/projects/als-project/spatial/01.c2l_model/plots/model.pt\", overwrite=True)\n",
    "\n",
    "sc_file = \"/projects/b1042/Gate_Lab/projects/als-project/spatial/01.c2l_model/anndata/GBB21-03-A12-sl5___V52L06-340___C12.h5ad__after_training.h5ad\"\n",
    "dat.write(sc_file)"
   ]
  }
 ],
 "metadata": {
  "kernelspec": {
   "display_name": "Environment (cell2loc_env)",
   "language": "python",
   "name": "cell2loc_env"
  },
  "language_info": {
   "codemirror_mode": {
    "name": "ipython",
    "version": 3
   },
   "file_extension": ".py",
   "mimetype": "text/x-python",
   "name": "python",
   "nbconvert_exporter": "python",
   "pygments_lexer": "ipython3",
   "version": "3.9.16"
  }
 },
 "nbformat": 4,
 "nbformat_minor": 5
}
