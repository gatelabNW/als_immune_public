{
 "cells": [
  {
   "cell_type": "code",
   "execution_count": 1,
   "id": "7e375483",
   "metadata": {},
   "outputs": [],
   "source": [
    "import os\n",
    "import warnings\n",
    "warnings.filterwarnings('ignore')\n",
    "import torch\n",
    "import pickle\n",
    "import sklearn\n",
    "import scipy as sp\n",
    "import numpy as np\n",
    "import scanpy as sc\n",
    "import pandas as pd\n",
    "import squidpy as sq\n",
    "import anndata as ad\n",
    "import matplotlib as mpl\n",
    "import cell2location as c2l\n",
    "import matplotlib.pyplot as plt\n",
    "from matplotlib import rcParams\n",
    "from cell2location.plt import plot_spatial\n",
    "from cell2location import run_colocation\n",
    "from cell2location.utils import select_slide\n",
    "from cell2location.utils.filtering import filter_genes\n",
    "from cell2location.models import RegressionModel\n",
    "from sklearn.model_selection import train_test_split\n",
    "rcParams['pdf.fonttype'] = 42 # enables correct plotting of text for PDFs\n"
   ]
  },
  {
   "cell_type": "code",
   "execution_count": 4,
   "id": "a542531b",
   "metadata": {},
   "outputs": [],
   "source": [
    "adata_vis = sc.read_h5ad(\"/projects/b1042/Gate_Lab/projects/als-project/spatial/04.c2l_model/c2l1211/adata_objects/q05final.h5ad\")\n",
    "\n",
    "adata_vis.obs.to_csv(\"/projects/b1042/Gate_Lab/projects/als-project/spatial/04.c2l_model/c2l1211/adata_objects/q05meta.csv\")"
   ]
  },
  {
   "cell_type": "code",
   "execution_count": 6,
   "id": "9415ca7f",
   "metadata": {},
   "outputs": [],
   "source": [
    "adata_vis = sc.read_h5ad(\"/projects/b1042/Gate_Lab/projects/als-project/spatial/04.c2l_model/c2l1211_ah_mn/adata_objects/q05final.h5ad\")\n",
    "\n",
    "adata_vis.obs.to_csv(\"/projects/b1042/Gate_Lab/projects/als-project/spatial/04.c2l_model/c2l1211_ah_mn/adata_objects/q05meta.csv\")"
   ]
  },
  {
   "cell_type": "code",
   "execution_count": 4,
   "id": "2356029f",
   "metadata": {},
   "outputs": [],
   "source": [
    "adata_vis = sc.read_h5ad(\"/projects/b1042/Gate_Lab/projects/als-project/spatial/04.c2l_model/c2l1116_mn_tracing/adata_objects/q05final.h5ad\")\n",
    "\n",
    "adata_vis.obs.to_csv(\"/projects/b1042/Gate_Lab/projects/als-project/spatial/04.c2l_model/c2l1116_mn_tracing/adata_objects/q05meta.csv\")"
   ]
  },
  {
   "cell_type": "code",
   "execution_count": null,
   "id": "5057532d",
   "metadata": {},
   "outputs": [],
   "source": []
  }
 ],
 "metadata": {
  "kernelspec": {
   "display_name": "Environment (cell2loc_env)",
   "language": "python",
   "name": "cell2loc_env"
  },
  "language_info": {
   "codemirror_mode": {
    "name": "ipython",
    "version": 3
   },
   "file_extension": ".py",
   "mimetype": "text/x-python",
   "name": "python",
   "nbconvert_exporter": "python",
   "pygments_lexer": "ipython3",
   "version": "3.9.16"
  }
 },
 "nbformat": 4,
 "nbformat_minor": 5
}
